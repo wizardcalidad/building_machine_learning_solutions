{
  "nbformat": 4,
  "nbformat_minor": 0,
  "metadata": {
    "colab": {
      "name": "recommendars.ipynb",
      "provenance": [],
      "collapsed_sections": [],
      "mount_file_id": "1dRqcMHJfiX6cmnf0gmVnmprOqnPQN-5I",
      "authorship_tag": "ABX9TyPZzPeBYYu1b48tiJy8buTt",
      "include_colab_link": true
    },
    "kernelspec": {
      "name": "python3",
      "display_name": "Python 3"
    }
  },
  "cells": [
    {
      "cell_type": "markdown",
      "metadata": {
        "id": "view-in-github",
        "colab_type": "text"
      },
      "source": [
        "<a href=\"https://colab.research.google.com/github/wizardcalidad/building_machine_learning_solutions/blob/indev/recommendars.ipynb\" target=\"_parent\"><img src=\"https://colab.research.google.com/assets/colab-badge.svg\" alt=\"Open In Colab\"/></a>"
      ]
    },
    {
      "cell_type": "code",
      "metadata": {
        "id": "XxQA3pYLRPTe"
      },
      "source": [
        "import pandas as pd\n",
        "import numpy as np\n",
        "import matplotlib.pyplot as plt\n",
        "\n",
        "from sklearn.feature_extraction.text import TfidfVectorizer\n",
        "from sklearn.metrics.pairwise import linear_kernel"
      ],
      "execution_count": null,
      "outputs": []
    },
    {
      "cell_type": "markdown",
      "metadata": {
        "id": "dn6cmjKWRdci"
      },
      "source": [
        "# Load Movies Metadata\n"
      ]
    },
    {
      "cell_type": "code",
      "metadata": {
        "colab": {
          "base_uri": "https://localhost:8080/",
          "height": 434
        },
        "id": "ld7q-jUMRaJl",
        "outputId": "e85cb8cb-eee2-48b5-fce2-1499f1fff1da"
      },
      "source": [
        "metadata = pd.read_csv('/content/drive/MyDrive/ml-latest-dataset/movies_metadata.csv', low_memory=False)\n",
        "\n",
        "metadata.head(3)"
      ],
      "execution_count": null,
      "outputs": [
        {
          "output_type": "execute_result",
          "data": {
            "text/html": [
              "<div>\n",
              "<style scoped>\n",
              "    .dataframe tbody tr th:only-of-type {\n",
              "        vertical-align: middle;\n",
              "    }\n",
              "\n",
              "    .dataframe tbody tr th {\n",
              "        vertical-align: top;\n",
              "    }\n",
              "\n",
              "    .dataframe thead th {\n",
              "        text-align: right;\n",
              "    }\n",
              "</style>\n",
              "<table border=\"1\" class=\"dataframe\">\n",
              "  <thead>\n",
              "    <tr style=\"text-align: right;\">\n",
              "      <th></th>\n",
              "      <th>adult</th>\n",
              "      <th>belongs_to_collection</th>\n",
              "      <th>budget</th>\n",
              "      <th>genres</th>\n",
              "      <th>homepage</th>\n",
              "      <th>id</th>\n",
              "      <th>imdb_id</th>\n",
              "      <th>original_language</th>\n",
              "      <th>original_title</th>\n",
              "      <th>overview</th>\n",
              "      <th>popularity</th>\n",
              "      <th>poster_path</th>\n",
              "      <th>production_companies</th>\n",
              "      <th>production_countries</th>\n",
              "      <th>release_date</th>\n",
              "      <th>revenue</th>\n",
              "      <th>runtime</th>\n",
              "      <th>spoken_languages</th>\n",
              "      <th>status</th>\n",
              "      <th>tagline</th>\n",
              "      <th>title</th>\n",
              "      <th>video</th>\n",
              "      <th>vote_average</th>\n",
              "      <th>vote_count</th>\n",
              "    </tr>\n",
              "  </thead>\n",
              "  <tbody>\n",
              "    <tr>\n",
              "      <th>0</th>\n",
              "      <td>False</td>\n",
              "      <td>{'id': 10194, 'name': 'Toy Story Collection', ...</td>\n",
              "      <td>30000000</td>\n",
              "      <td>[{'id': 16, 'name': 'Animation'}, {'id': 35, '...</td>\n",
              "      <td>http://toystory.disney.com/toy-story</td>\n",
              "      <td>862</td>\n",
              "      <td>tt0114709</td>\n",
              "      <td>en</td>\n",
              "      <td>Toy Story</td>\n",
              "      <td>Led by Woody, Andy's toys live happily in his ...</td>\n",
              "      <td>21.946943</td>\n",
              "      <td>/rhIRbceoE9lR4veEXuwCC2wARtG.jpg</td>\n",
              "      <td>[{'name': 'Pixar Animation Studios', 'id': 3}]</td>\n",
              "      <td>[{'iso_3166_1': 'US', 'name': 'United States o...</td>\n",
              "      <td>1995-10-30</td>\n",
              "      <td>373554033.0</td>\n",
              "      <td>81.0</td>\n",
              "      <td>[{'iso_639_1': 'en', 'name': 'English'}]</td>\n",
              "      <td>Released</td>\n",
              "      <td>NaN</td>\n",
              "      <td>Toy Story</td>\n",
              "      <td>False</td>\n",
              "      <td>7.7</td>\n",
              "      <td>5415.0</td>\n",
              "    </tr>\n",
              "    <tr>\n",
              "      <th>1</th>\n",
              "      <td>False</td>\n",
              "      <td>NaN</td>\n",
              "      <td>65000000</td>\n",
              "      <td>[{'id': 12, 'name': 'Adventure'}, {'id': 14, '...</td>\n",
              "      <td>NaN</td>\n",
              "      <td>8844</td>\n",
              "      <td>tt0113497</td>\n",
              "      <td>en</td>\n",
              "      <td>Jumanji</td>\n",
              "      <td>When siblings Judy and Peter discover an encha...</td>\n",
              "      <td>17.015539</td>\n",
              "      <td>/vzmL6fP7aPKNKPRTFnZmiUfciyV.jpg</td>\n",
              "      <td>[{'name': 'TriStar Pictures', 'id': 559}, {'na...</td>\n",
              "      <td>[{'iso_3166_1': 'US', 'name': 'United States o...</td>\n",
              "      <td>1995-12-15</td>\n",
              "      <td>262797249.0</td>\n",
              "      <td>104.0</td>\n",
              "      <td>[{'iso_639_1': 'en', 'name': 'English'}, {'iso...</td>\n",
              "      <td>Released</td>\n",
              "      <td>Roll the dice and unleash the excitement!</td>\n",
              "      <td>Jumanji</td>\n",
              "      <td>False</td>\n",
              "      <td>6.9</td>\n",
              "      <td>2413.0</td>\n",
              "    </tr>\n",
              "    <tr>\n",
              "      <th>2</th>\n",
              "      <td>False</td>\n",
              "      <td>{'id': 119050, 'name': 'Grumpy Old Men Collect...</td>\n",
              "      <td>0</td>\n",
              "      <td>[{'id': 10749, 'name': 'Romance'}, {'id': 35, ...</td>\n",
              "      <td>NaN</td>\n",
              "      <td>15602</td>\n",
              "      <td>tt0113228</td>\n",
              "      <td>en</td>\n",
              "      <td>Grumpier Old Men</td>\n",
              "      <td>A family wedding reignites the ancient feud be...</td>\n",
              "      <td>11.7129</td>\n",
              "      <td>/6ksm1sjKMFLbO7UY2i6G1ju9SML.jpg</td>\n",
              "      <td>[{'name': 'Warner Bros.', 'id': 6194}, {'name'...</td>\n",
              "      <td>[{'iso_3166_1': 'US', 'name': 'United States o...</td>\n",
              "      <td>1995-12-22</td>\n",
              "      <td>0.0</td>\n",
              "      <td>101.0</td>\n",
              "      <td>[{'iso_639_1': 'en', 'name': 'English'}]</td>\n",
              "      <td>Released</td>\n",
              "      <td>Still Yelling. Still Fighting. Still Ready for...</td>\n",
              "      <td>Grumpier Old Men</td>\n",
              "      <td>False</td>\n",
              "      <td>6.5</td>\n",
              "      <td>92.0</td>\n",
              "    </tr>\n",
              "  </tbody>\n",
              "</table>\n",
              "</div>"
            ],
            "text/plain": [
              "   adult  ... vote_count\n",
              "0  False  ...     5415.0\n",
              "1  False  ...     2413.0\n",
              "2  False  ...       92.0\n",
              "\n",
              "[3 rows x 24 columns]"
            ]
          },
          "metadata": {
            "tags": []
          },
          "execution_count": 2
        }
      ]
    },
    {
      "cell_type": "markdown",
      "metadata": {
        "id": "CO2TlJEI-sKq"
      },
      "source": [
        "# Simple Recommenders\n"
      ]
    },
    {
      "cell_type": "markdown",
      "metadata": {
        "id": "O0oierCU-wQ_"
      },
      "source": [
        "WeightedRating(WR)=(v/(v+m)R)+(m/(v+m)C)\n",
        "\n",
        "Calculate mean of vote average column\n"
      ]
    },
    {
      "cell_type": "code",
      "metadata": {
        "colab": {
          "base_uri": "https://localhost:8080/"
        },
        "id": "ZtAzY108RjEA",
        "outputId": "ee8c1bbf-fe11-4081-dba3-865b23872313"
      },
      "source": [
        "C = metadata['vote_average'].mean()\n",
        "print(C)"
      ],
      "execution_count": null,
      "outputs": [
        {
          "output_type": "stream",
          "text": [
            "5.618207215133889\n"
          ],
          "name": "stdout"
        }
      ]
    },
    {
      "cell_type": "markdown",
      "metadata": {
        "id": "c9mK-R1E-6lM"
      },
      "source": [
        "calculate the number of votes, m, received by a movie in the 90th percentile.\n"
      ]
    },
    {
      "cell_type": "code",
      "metadata": {
        "colab": {
          "base_uri": "https://localhost:8080/"
        },
        "id": "OZWhvj9b_CID",
        "outputId": "8fce6b97-d893-4219-c95c-5a9132a0eec1"
      },
      "source": [
        "m = metadata['vote_count'].quantile(0.90)\n",
        "print(m)"
      ],
      "execution_count": null,
      "outputs": [
        {
          "output_type": "stream",
          "text": [
            "160.0\n"
          ],
          "name": "stdout"
        }
      ]
    },
    {
      "cell_type": "markdown",
      "metadata": {
        "id": "KM74vfrj_M7V"
      },
      "source": [
        "Filter out all qualified movies into a new DataFrame\n"
      ]
    },
    {
      "cell_type": "code",
      "metadata": {
        "colab": {
          "base_uri": "https://localhost:8080/"
        },
        "id": "8rLrZqT__Ojn",
        "outputId": "c755d74b-49f9-480e-b49b-f05e71af0854"
      },
      "source": [
        "q_movies = metadata.copy().loc[metadata['vote_count'] >= m]\n",
        "q_movies.shape"
      ],
      "execution_count": null,
      "outputs": [
        {
          "output_type": "execute_result",
          "data": {
            "text/plain": [
              "(4555, 24)"
            ]
          },
          "metadata": {
            "tags": []
          },
          "execution_count": 5
        }
      ]
    },
    {
      "cell_type": "code",
      "metadata": {
        "colab": {
          "base_uri": "https://localhost:8080/"
        },
        "id": "GLFVm6ZI_X1h",
        "outputId": "3d2b5bce-19b5-45ba-d243-47de87231359"
      },
      "source": [
        "metadata.shape"
      ],
      "execution_count": null,
      "outputs": [
        {
          "output_type": "execute_result",
          "data": {
            "text/plain": [
              "(45466, 24)"
            ]
          },
          "metadata": {
            "tags": []
          },
          "execution_count": 6
        }
      ]
    },
    {
      "cell_type": "markdown",
      "metadata": {
        "id": "j4j_UIMv_cdh"
      },
      "source": [
        "Function that computes the weighted rating of each movie\n"
      ]
    },
    {
      "cell_type": "code",
      "metadata": {
        "id": "qTH7AgCX_Ya3"
      },
      "source": [
        "def weighted_rating(x, m=m, C=C):\n",
        "    v = x['vote_count']\n",
        "    R = x['vote_average']\n",
        "    # Calculation based on the IMDB formula\n",
        "    return (v/(v+m) * R) + (m/(m+v) * C)"
      ],
      "execution_count": null,
      "outputs": []
    },
    {
      "cell_type": "markdown",
      "metadata": {
        "id": "zWFXpCQP_oZa"
      },
      "source": [
        "Define a new feature 'score' and calculate its value with `weighted_rating()`"
      ]
    },
    {
      "cell_type": "code",
      "metadata": {
        "id": "aWqPGLn0_f7g"
      },
      "source": [
        "q_movies['score'] = q_movies.apply(weighted_rating, axis=1)"
      ],
      "execution_count": null,
      "outputs": []
    },
    {
      "cell_type": "code",
      "metadata": {
        "colab": {
          "base_uri": "https://localhost:8080/",
          "height": 417
        },
        "id": "dXsftKMG_wQF",
        "outputId": "5c6fcbc0-c4fe-41b8-bf5f-1b399aa1bb8a"
      },
      "source": [
        "q_movies.head(3)"
      ],
      "execution_count": null,
      "outputs": [
        {
          "output_type": "execute_result",
          "data": {
            "text/html": [
              "<div>\n",
              "<style scoped>\n",
              "    .dataframe tbody tr th:only-of-type {\n",
              "        vertical-align: middle;\n",
              "    }\n",
              "\n",
              "    .dataframe tbody tr th {\n",
              "        vertical-align: top;\n",
              "    }\n",
              "\n",
              "    .dataframe thead th {\n",
              "        text-align: right;\n",
              "    }\n",
              "</style>\n",
              "<table border=\"1\" class=\"dataframe\">\n",
              "  <thead>\n",
              "    <tr style=\"text-align: right;\">\n",
              "      <th></th>\n",
              "      <th>adult</th>\n",
              "      <th>belongs_to_collection</th>\n",
              "      <th>budget</th>\n",
              "      <th>genres</th>\n",
              "      <th>homepage</th>\n",
              "      <th>id</th>\n",
              "      <th>imdb_id</th>\n",
              "      <th>original_language</th>\n",
              "      <th>original_title</th>\n",
              "      <th>overview</th>\n",
              "      <th>popularity</th>\n",
              "      <th>poster_path</th>\n",
              "      <th>production_companies</th>\n",
              "      <th>production_countries</th>\n",
              "      <th>release_date</th>\n",
              "      <th>revenue</th>\n",
              "      <th>runtime</th>\n",
              "      <th>spoken_languages</th>\n",
              "      <th>status</th>\n",
              "      <th>tagline</th>\n",
              "      <th>title</th>\n",
              "      <th>video</th>\n",
              "      <th>vote_average</th>\n",
              "      <th>vote_count</th>\n",
              "      <th>score</th>\n",
              "    </tr>\n",
              "  </thead>\n",
              "  <tbody>\n",
              "    <tr>\n",
              "      <th>0</th>\n",
              "      <td>False</td>\n",
              "      <td>{'id': 10194, 'name': 'Toy Story Collection', ...</td>\n",
              "      <td>30000000</td>\n",
              "      <td>[{'id': 16, 'name': 'Animation'}, {'id': 35, '...</td>\n",
              "      <td>http://toystory.disney.com/toy-story</td>\n",
              "      <td>862</td>\n",
              "      <td>tt0114709</td>\n",
              "      <td>en</td>\n",
              "      <td>Toy Story</td>\n",
              "      <td>Led by Woody, Andy's toys live happily in his ...</td>\n",
              "      <td>21.946943</td>\n",
              "      <td>/rhIRbceoE9lR4veEXuwCC2wARtG.jpg</td>\n",
              "      <td>[{'name': 'Pixar Animation Studios', 'id': 3}]</td>\n",
              "      <td>[{'iso_3166_1': 'US', 'name': 'United States o...</td>\n",
              "      <td>1995-10-30</td>\n",
              "      <td>373554033.0</td>\n",
              "      <td>81.0</td>\n",
              "      <td>[{'iso_639_1': 'en', 'name': 'English'}]</td>\n",
              "      <td>Released</td>\n",
              "      <td>NaN</td>\n",
              "      <td>Toy Story</td>\n",
              "      <td>False</td>\n",
              "      <td>7.7</td>\n",
              "      <td>5415.0</td>\n",
              "      <td>7.640253</td>\n",
              "    </tr>\n",
              "    <tr>\n",
              "      <th>1</th>\n",
              "      <td>False</td>\n",
              "      <td>NaN</td>\n",
              "      <td>65000000</td>\n",
              "      <td>[{'id': 12, 'name': 'Adventure'}, {'id': 14, '...</td>\n",
              "      <td>NaN</td>\n",
              "      <td>8844</td>\n",
              "      <td>tt0113497</td>\n",
              "      <td>en</td>\n",
              "      <td>Jumanji</td>\n",
              "      <td>When siblings Judy and Peter discover an encha...</td>\n",
              "      <td>17.015539</td>\n",
              "      <td>/vzmL6fP7aPKNKPRTFnZmiUfciyV.jpg</td>\n",
              "      <td>[{'name': 'TriStar Pictures', 'id': 559}, {'na...</td>\n",
              "      <td>[{'iso_3166_1': 'US', 'name': 'United States o...</td>\n",
              "      <td>1995-12-15</td>\n",
              "      <td>262797249.0</td>\n",
              "      <td>104.0</td>\n",
              "      <td>[{'iso_639_1': 'en', 'name': 'English'}, {'iso...</td>\n",
              "      <td>Released</td>\n",
              "      <td>Roll the dice and unleash the excitement!</td>\n",
              "      <td>Jumanji</td>\n",
              "      <td>False</td>\n",
              "      <td>6.9</td>\n",
              "      <td>2413.0</td>\n",
              "      <td>6.820293</td>\n",
              "    </tr>\n",
              "    <tr>\n",
              "      <th>4</th>\n",
              "      <td>False</td>\n",
              "      <td>{'id': 96871, 'name': 'Father of the Bride Col...</td>\n",
              "      <td>0</td>\n",
              "      <td>[{'id': 35, 'name': 'Comedy'}]</td>\n",
              "      <td>NaN</td>\n",
              "      <td>11862</td>\n",
              "      <td>tt0113041</td>\n",
              "      <td>en</td>\n",
              "      <td>Father of the Bride Part II</td>\n",
              "      <td>Just when George Banks has recovered from his ...</td>\n",
              "      <td>8.387519</td>\n",
              "      <td>/e64sOI48hQXyru7naBFyssKFxVd.jpg</td>\n",
              "      <td>[{'name': 'Sandollar Productions', 'id': 5842}...</td>\n",
              "      <td>[{'iso_3166_1': 'US', 'name': 'United States o...</td>\n",
              "      <td>1995-02-10</td>\n",
              "      <td>76578911.0</td>\n",
              "      <td>106.0</td>\n",
              "      <td>[{'iso_639_1': 'en', 'name': 'English'}]</td>\n",
              "      <td>Released</td>\n",
              "      <td>Just When His World Is Back To Normal... He's ...</td>\n",
              "      <td>Father of the Bride Part II</td>\n",
              "      <td>False</td>\n",
              "      <td>5.7</td>\n",
              "      <td>173.0</td>\n",
              "      <td>5.660700</td>\n",
              "    </tr>\n",
              "  </tbody>\n",
              "</table>\n",
              "</div>"
            ],
            "text/plain": [
              "   adult  ...     score\n",
              "0  False  ...  7.640253\n",
              "1  False  ...  6.820293\n",
              "4  False  ...  5.660700\n",
              "\n",
              "[3 rows x 25 columns]"
            ]
          },
          "metadata": {
            "tags": []
          },
          "execution_count": 9
        }
      ]
    },
    {
      "cell_type": "markdown",
      "metadata": {
        "id": "MUTZGOtH__Nk"
      },
      "source": [
        "Sort movies based on score calculated above"
      ]
    },
    {
      "cell_type": "code",
      "metadata": {
        "colab": {
          "base_uri": "https://localhost:8080/",
          "height": 669
        },
        "id": "HW8riv7B_zs8",
        "outputId": "9b4848a9-de08-4bca-f289-6bae83922d00"
      },
      "source": [
        "q_movies = q_movies.sort_values('score', ascending=False)\n",
        "\n",
        "q_movies[['title', 'vote_count', 'vote_average', 'score']].head(20)"
      ],
      "execution_count": null,
      "outputs": [
        {
          "output_type": "execute_result",
          "data": {
            "text/html": [
              "<div>\n",
              "<style scoped>\n",
              "    .dataframe tbody tr th:only-of-type {\n",
              "        vertical-align: middle;\n",
              "    }\n",
              "\n",
              "    .dataframe tbody tr th {\n",
              "        vertical-align: top;\n",
              "    }\n",
              "\n",
              "    .dataframe thead th {\n",
              "        text-align: right;\n",
              "    }\n",
              "</style>\n",
              "<table border=\"1\" class=\"dataframe\">\n",
              "  <thead>\n",
              "    <tr style=\"text-align: right;\">\n",
              "      <th></th>\n",
              "      <th>title</th>\n",
              "      <th>vote_count</th>\n",
              "      <th>vote_average</th>\n",
              "      <th>score</th>\n",
              "    </tr>\n",
              "  </thead>\n",
              "  <tbody>\n",
              "    <tr>\n",
              "      <th>314</th>\n",
              "      <td>The Shawshank Redemption</td>\n",
              "      <td>8358.0</td>\n",
              "      <td>8.5</td>\n",
              "      <td>8.445869</td>\n",
              "    </tr>\n",
              "    <tr>\n",
              "      <th>834</th>\n",
              "      <td>The Godfather</td>\n",
              "      <td>6024.0</td>\n",
              "      <td>8.5</td>\n",
              "      <td>8.425439</td>\n",
              "    </tr>\n",
              "    <tr>\n",
              "      <th>10309</th>\n",
              "      <td>Dilwale Dulhania Le Jayenge</td>\n",
              "      <td>661.0</td>\n",
              "      <td>9.1</td>\n",
              "      <td>8.421453</td>\n",
              "    </tr>\n",
              "    <tr>\n",
              "      <th>12481</th>\n",
              "      <td>The Dark Knight</td>\n",
              "      <td>12269.0</td>\n",
              "      <td>8.3</td>\n",
              "      <td>8.265477</td>\n",
              "    </tr>\n",
              "    <tr>\n",
              "      <th>2843</th>\n",
              "      <td>Fight Club</td>\n",
              "      <td>9678.0</td>\n",
              "      <td>8.3</td>\n",
              "      <td>8.256385</td>\n",
              "    </tr>\n",
              "    <tr>\n",
              "      <th>292</th>\n",
              "      <td>Pulp Fiction</td>\n",
              "      <td>8670.0</td>\n",
              "      <td>8.3</td>\n",
              "      <td>8.251406</td>\n",
              "    </tr>\n",
              "    <tr>\n",
              "      <th>522</th>\n",
              "      <td>Schindler's List</td>\n",
              "      <td>4436.0</td>\n",
              "      <td>8.3</td>\n",
              "      <td>8.206639</td>\n",
              "    </tr>\n",
              "    <tr>\n",
              "      <th>23673</th>\n",
              "      <td>Whiplash</td>\n",
              "      <td>4376.0</td>\n",
              "      <td>8.3</td>\n",
              "      <td>8.205404</td>\n",
              "    </tr>\n",
              "    <tr>\n",
              "      <th>5481</th>\n",
              "      <td>Spirited Away</td>\n",
              "      <td>3968.0</td>\n",
              "      <td>8.3</td>\n",
              "      <td>8.196055</td>\n",
              "    </tr>\n",
              "    <tr>\n",
              "      <th>2211</th>\n",
              "      <td>Life Is Beautiful</td>\n",
              "      <td>3643.0</td>\n",
              "      <td>8.3</td>\n",
              "      <td>8.187171</td>\n",
              "    </tr>\n",
              "    <tr>\n",
              "      <th>1178</th>\n",
              "      <td>The Godfather: Part II</td>\n",
              "      <td>3418.0</td>\n",
              "      <td>8.3</td>\n",
              "      <td>8.180076</td>\n",
              "    </tr>\n",
              "    <tr>\n",
              "      <th>1152</th>\n",
              "      <td>One Flew Over the Cuckoo's Nest</td>\n",
              "      <td>3001.0</td>\n",
              "      <td>8.3</td>\n",
              "      <td>8.164256</td>\n",
              "    </tr>\n",
              "    <tr>\n",
              "      <th>351</th>\n",
              "      <td>Forrest Gump</td>\n",
              "      <td>8147.0</td>\n",
              "      <td>8.2</td>\n",
              "      <td>8.150272</td>\n",
              "    </tr>\n",
              "    <tr>\n",
              "      <th>1154</th>\n",
              "      <td>The Empire Strikes Back</td>\n",
              "      <td>5998.0</td>\n",
              "      <td>8.2</td>\n",
              "      <td>8.132919</td>\n",
              "    </tr>\n",
              "    <tr>\n",
              "      <th>1176</th>\n",
              "      <td>Psycho</td>\n",
              "      <td>2405.0</td>\n",
              "      <td>8.3</td>\n",
              "      <td>8.132715</td>\n",
              "    </tr>\n",
              "    <tr>\n",
              "      <th>18465</th>\n",
              "      <td>The Intouchables</td>\n",
              "      <td>5410.0</td>\n",
              "      <td>8.2</td>\n",
              "      <td>8.125837</td>\n",
              "    </tr>\n",
              "    <tr>\n",
              "      <th>40251</th>\n",
              "      <td>Your Name.</td>\n",
              "      <td>1030.0</td>\n",
              "      <td>8.5</td>\n",
              "      <td>8.112532</td>\n",
              "    </tr>\n",
              "    <tr>\n",
              "      <th>289</th>\n",
              "      <td>Leon: The Professional</td>\n",
              "      <td>4293.0</td>\n",
              "      <td>8.2</td>\n",
              "      <td>8.107234</td>\n",
              "    </tr>\n",
              "    <tr>\n",
              "      <th>3030</th>\n",
              "      <td>The Green Mile</td>\n",
              "      <td>4166.0</td>\n",
              "      <td>8.2</td>\n",
              "      <td>8.104511</td>\n",
              "    </tr>\n",
              "    <tr>\n",
              "      <th>1170</th>\n",
              "      <td>GoodFellas</td>\n",
              "      <td>3211.0</td>\n",
              "      <td>8.2</td>\n",
              "      <td>8.077459</td>\n",
              "    </tr>\n",
              "  </tbody>\n",
              "</table>\n",
              "</div>"
            ],
            "text/plain": [
              "                                 title  vote_count  vote_average     score\n",
              "314           The Shawshank Redemption      8358.0           8.5  8.445869\n",
              "834                      The Godfather      6024.0           8.5  8.425439\n",
              "10309      Dilwale Dulhania Le Jayenge       661.0           9.1  8.421453\n",
              "12481                  The Dark Knight     12269.0           8.3  8.265477\n",
              "2843                        Fight Club      9678.0           8.3  8.256385\n",
              "292                       Pulp Fiction      8670.0           8.3  8.251406\n",
              "522                   Schindler's List      4436.0           8.3  8.206639\n",
              "23673                         Whiplash      4376.0           8.3  8.205404\n",
              "5481                     Spirited Away      3968.0           8.3  8.196055\n",
              "2211                 Life Is Beautiful      3643.0           8.3  8.187171\n",
              "1178            The Godfather: Part II      3418.0           8.3  8.180076\n",
              "1152   One Flew Over the Cuckoo's Nest      3001.0           8.3  8.164256\n",
              "351                       Forrest Gump      8147.0           8.2  8.150272\n",
              "1154           The Empire Strikes Back      5998.0           8.2  8.132919\n",
              "1176                            Psycho      2405.0           8.3  8.132715\n",
              "18465                 The Intouchables      5410.0           8.2  8.125837\n",
              "40251                       Your Name.      1030.0           8.5  8.112532\n",
              "289             Leon: The Professional      4293.0           8.2  8.107234\n",
              "3030                    The Green Mile      4166.0           8.2  8.104511\n",
              "1170                        GoodFellas      3211.0           8.2  8.077459"
            ]
          },
          "metadata": {
            "tags": []
          },
          "execution_count": 10
        }
      ]
    },
    {
      "cell_type": "markdown",
      "metadata": {
        "id": "7Z5_8_9tAPYk"
      },
      "source": [
        "Simple recommenders: offer generalized recommendations to every user, based on movie popularity and/or genre. The basic idea behind this system is that movies that are more popular and critically acclaimed will have a higher probability of being liked by the average audience. An example could be IMDB Top 250."
      ]
    },
    {
      "cell_type": "markdown",
      "metadata": {
        "id": "bxQu2Nw6ARea"
      },
      "source": [
        "# Content-Based Recommenders"
      ]
    },
    {
      "cell_type": "markdown",
      "metadata": {
        "id": "8F9E7CGoAVKY"
      },
      "source": [
        "We want to get to build a system that recommends movies that are similar to a particular movie, using `pairwise cosine similarity scores` for all movies based on their plot descriptions.\n"
      ]
    },
    {
      "cell_type": "code",
      "metadata": {
        "colab": {
          "base_uri": "https://localhost:8080/"
        },
        "id": "RCrxfNUQAI75",
        "outputId": "f69ca589-9a00-44e8-ea24-d7ade58a1cf1"
      },
      "source": [
        "metadata['overview'].head()"
      ],
      "execution_count": null,
      "outputs": [
        {
          "output_type": "execute_result",
          "data": {
            "text/plain": [
              "0    Led by Woody, Andy's toys live happily in his ...\n",
              "1    When siblings Judy and Peter discover an encha...\n",
              "2    A family wedding reignites the ancient feud be...\n",
              "3    Cheated on, mistreated and stepped on, the wom...\n",
              "4    Just when George Banks has recovered from his ...\n",
              "Name: overview, dtype: object"
            ]
          },
          "metadata": {
            "tags": []
          },
          "execution_count": 11
        }
      ]
    },
    {
      "cell_type": "markdown",
      "metadata": {
        "id": "aDifNOEUBCwB"
      },
      "source": [
        "##### To get the similarities between our description we needs to run some jobs with NLP by computing the word vectors of each overview using `Term Frequency-Inverse Document Frequency` (TF-IDF)\n",
        "\n",
        " ######  1. Define a TF-IDF Vectorizer Object. Remove all english stop words such as 'the', 'a'.\n",
        "\n",
        " ######  2. Replace NaN with an empty string\n",
        "\n",
        " ######  3. Construct the required TF-IDF matrix by fitting and transforming the data\n",
        "\n",
        " ######  4. Output the shape of tfidf_matrix\n",
        "\n"
      ]
    },
    {
      "cell_type": "code",
      "metadata": {
        "colab": {
          "base_uri": "https://localhost:8080/"
        },
        "id": "790kuXX9Atbi",
        "outputId": "f8413e03-4dc6-441d-dec9-13c4dc0df916"
      },
      "source": [
        "tfidf = TfidfVectorizer(stop_words='english')\n",
        "metadata['overview'] = metadata['overview'].fillna('')\n",
        "tfidf_matrix = tfidf.fit_transform(metadata['overview'])\n",
        "tfidf_matrix.shape"
      ],
      "execution_count": null,
      "outputs": [
        {
          "output_type": "execute_result",
          "data": {
            "text/plain": [
              "(45466, 75827)"
            ]
          },
          "metadata": {
            "tags": []
          },
          "execution_count": 12
        }
      ]
    },
    {
      "cell_type": "markdown",
      "metadata": {
        "id": "JZuZwQE9CFaH"
      },
      "source": [
        "Array mapping from feature integer indices to feature name.\n"
      ]
    },
    {
      "cell_type": "code",
      "metadata": {
        "colab": {
          "base_uri": "https://localhost:8080/"
        },
        "id": "XBembiCJCF-i",
        "outputId": "0ab750d1-70f1-4aca-d6e9-527d455c5efb"
      },
      "source": [
        "tfidf.get_feature_names()[5000:5010]"
      ],
      "execution_count": null,
      "outputs": [
        {
          "output_type": "execute_result",
          "data": {
            "text/plain": [
              "['avails',\n",
              " 'avaks',\n",
              " 'avalanche',\n",
              " 'avalanches',\n",
              " 'avallone',\n",
              " 'avalon',\n",
              " 'avant',\n",
              " 'avanthika',\n",
              " 'avanti',\n",
              " 'avaracious']"
            ]
          },
          "metadata": {
            "tags": []
          },
          "execution_count": 13
        }
      ]
    },
    {
      "cell_type": "markdown",
      "metadata": {
        "id": "WxxnbET6CTbH"
      },
      "source": [
        "With our matrix at hand, we can compute similarity score. There are several similarity metrics that you can use for this, such as the Manhattan, Euclidean, The Pearson and the Cosine Similarity scores. I will be using cosine similarity score here because it is fast and independent of magnitude and it works well in conjuction with TF-IDF.\n",
        "\n",
        "Since I have used the TF-IDF vectorizer, calculating the dot product between each vector will directly give the `cosine similarity score`. Therefore, I will use `sklearn's linear_kernel()` instead of `cosine_similarities()` since it is faster.\n"
      ]
    },
    {
      "cell_type": "code",
      "metadata": {
        "id": "8czJj47oCMJV"
      },
      "source": [
        "cosine_sim = linear_kernel(tfidf_matrix, tfidf_matrix, dense_output=False)"
      ],
      "execution_count": null,
      "outputs": []
    },
    {
      "cell_type": "code",
      "metadata": {
        "colab": {
          "base_uri": "https://localhost:8080/"
        },
        "id": "zRjMsMV_iNzZ",
        "outputId": "cca7c3b1-949e-49fb-ae30-232d5988fb6d"
      },
      "source": [
        "cosine_sim.shape"
      ],
      "execution_count": null,
      "outputs": [
        {
          "output_type": "execute_result",
          "data": {
            "text/plain": [
              "(45466, 45466)"
            ]
          },
          "metadata": {
            "tags": []
          },
          "execution_count": 15
        }
      ]
    },
    {
      "cell_type": "code",
      "metadata": {
        "colab": {
          "base_uri": "https://localhost:8080/"
        },
        "id": "iiA0apFJcipS",
        "outputId": "2b9d01ac-9cc6-4bcb-d9f9-2b3e1633f4ca"
      },
      "source": [
        "list(enumerate(cosine_sim[0].toarray()[0]))[:10]"
      ],
      "execution_count": null,
      "outputs": [
        {
          "output_type": "execute_result",
          "data": {
            "text/plain": [
              "[(0, 0.9999999999999999),\n",
              " (1, 0.015041212918177515),\n",
              " (2, 0.0),\n",
              " (3, 0.0),\n",
              " (4, 0.0),\n",
              " (5, 0.0),\n",
              " (6, 0.0),\n",
              " (7, 0.0),\n",
              " (8, 0.0),\n",
              " (9, 0.0)]"
            ]
          },
          "metadata": {
            "tags": []
          },
          "execution_count": 45
        }
      ]
    },
    {
      "cell_type": "markdown",
      "metadata": {
        "id": "9PWTV4UFkA11"
      },
      "source": [
        "Construct a reverse map of indices and movie titles"
      ]
    },
    {
      "cell_type": "code",
      "metadata": {
        "id": "eP578DekiqpJ"
      },
      "source": [
        "indices = pd.Series(metadata.index, index=metadata['title']).drop_duplicates()"
      ],
      "execution_count": null,
      "outputs": []
    },
    {
      "cell_type": "code",
      "metadata": {
        "colab": {
          "base_uri": "https://localhost:8080/"
        },
        "id": "NpJlmpkOklnR",
        "outputId": "bf7ba4c9-0915-4133-9000-25e29b9b5d27"
      },
      "source": [
        "indices[:10]"
      ],
      "execution_count": null,
      "outputs": [
        {
          "output_type": "execute_result",
          "data": {
            "text/plain": [
              "title\n",
              "Toy Story                      0\n",
              "Jumanji                        1\n",
              "Grumpier Old Men               2\n",
              "Waiting to Exhale              3\n",
              "Father of the Bride Part II    4\n",
              "Heat                           5\n",
              "Sabrina                        6\n",
              "Tom and Huck                   7\n",
              "Sudden Death                   8\n",
              "GoldenEye                      9\n",
              "dtype: int64"
            ]
          },
          "metadata": {
            "tags": []
          },
          "execution_count": 18
        }
      ]
    },
    {
      "cell_type": "markdown",
      "metadata": {
        "id": "W4nrJkkIntDc"
      },
      "source": [
        "Function that takes in movie title as input and outputs most similar movies"
      ]
    },
    {
      "cell_type": "code",
      "metadata": {
        "id": "pHV4UF7alOnN"
      },
      "source": [
        "def get_recommendations(title, cosine_sim=cosine_sim):\n",
        "    # Get the index of the movie that matches the title\n",
        "    idx = indices[title]\n",
        "\n",
        "    # Get the pairwsie similarity scores of all movies with that movie\n",
        "    sim_scores = list(enumerate(cosine_sim[idx].toarray()[0]))\n",
        "\n",
        "\n",
        "    # Sort the movies based on the similarity scores\n",
        "    sim_scores = sorted(sim_scores, key=lambda x: x[1], reverse=True)\n",
        "\n",
        "    # Get the scores of the 10 most similar movies\n",
        "    sim_scores = sim_scores[1:11]\n",
        "\n",
        "    # Get the movie indices\n",
        "    movie_indices = [sim_score[0] for sim_score in sim_scores]\n",
        "\n",
        "    # Return the top 10 most similar movies\n",
        "    return metadata['title'].iloc[movie_indices]"
      ],
      "execution_count": null,
      "outputs": []
    },
    {
      "cell_type": "code",
      "metadata": {
        "colab": {
          "base_uri": "https://localhost:8080/"
        },
        "id": "qMREGiAJoEFW",
        "outputId": "c88ebd5a-df6e-4f83-8d86-b1d975f24ee3"
      },
      "source": [
        "get_recommendations('The Champ')"
      ],
      "execution_count": null,
      "outputs": [
        {
          "output_type": "execute_result",
          "data": {
            "text/plain": [
              "15348                                     Toy Story 3\n",
              "2997                                      Toy Story 2\n",
              "10301                          The 40 Year Old Virgin\n",
              "24523                                       Small Fry\n",
              "23843                     Andy Hardy's Blonde Trouble\n",
              "29202                                      Hot Splash\n",
              "43427                Andy Kaufman Plays Carnegie Hall\n",
              "38476    Superstar: The Life and Times of Andy Warhol\n",
              "42721    Andy Peters: Exclamation Mark Question Point\n",
              "8327                                        The Champ\n",
              "Name: title, dtype: object"
            ]
          },
          "metadata": {
            "tags": []
          },
          "execution_count": 70
        }
      ]
    },
    {
      "cell_type": "code",
      "metadata": {
        "id": "iyzsXchg2nOu"
      },
      "source": [
        ""
      ],
      "execution_count": null,
      "outputs": []
    }
  ]
}